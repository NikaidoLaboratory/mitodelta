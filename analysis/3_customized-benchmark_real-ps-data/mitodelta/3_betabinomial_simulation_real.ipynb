{
 "cells": [
  {
   "cell_type": "code",
   "execution_count": 1,
   "id": "174706dc-7f28-4e78-bd9f-d086b96dba37",
   "metadata": {},
   "outputs": [],
   "source": [
    "import numpy as np\n",
    "import pandas as pd\n",
    "import os\n",
    "import glob\n",
    "import scipy.stats as stats\n",
    "import matplotlib.pyplot as plt\n",
    "from statsmodels.stats.multitest import multipletests"
   ]
  },
  {
   "cell_type": "code",
   "execution_count": 13,
   "id": "8207e175-0c98-49aa-a461-177dc061031c",
   "metadata": {},
   "outputs": [
    {
     "name": "stdout",
     "output_type": "stream",
     "text": [
      "                      name  break5  break3  delread  wtread  heteroplasmy\n",
      "0  SRR14433337_10000000_s1    4863    5263        1     645      0.154799\n",
      "1  SRR14433337_10000000_s1   15638   15741        1    2776      0.036010\n",
      "2  SRR14433337_10000000_s1   12909   13077        1      40      2.439024\n",
      "3  SRR14433337_10000000_s1   13307   14542        1     211      0.471698\n",
      "4  SRR14433337_10000000_s1   12848   14615        1     170      0.584795\n"
     ]
    }
   ],
   "source": [
    "### 1. real data (Pearson syndrome)\n",
    "file_path = \"/Users/harukonakagawa/Desktop/mtDNA/250128_psrna20K-20M_plot/last_result/indel.nomap.noref.last.breakspan.tsv\"\n",
    "df = pd.read_csv(file_path, sep=\"\\t\")\n",
    "print(df.head())"
   ]
  },
  {
   "cell_type": "code",
   "execution_count": 14,
   "id": "c7421243-4a4c-4674-bd84-589c1afc970f",
   "metadata": {},
   "outputs": [
    {
     "name": "stdout",
     "output_type": "stream",
     "text": [
      "all row: 276\n"
     ]
    }
   ],
   "source": [
    "# Calculate total depth\n",
    "df[\"total_depth\"] = df[\"delread\"] + df[\"wtread\"]\n",
    "\n",
    "# print number of variant\n",
    "row_count = len(df)\n",
    "print(f\"all row: {row_count}\")"
   ]
  },
  {
   "cell_type": "code",
   "execution_count": 15,
   "id": "eba7916d-a1c5-4f03-946e-496b33567642",
   "metadata": {},
   "outputs": [
    {
     "name": "stdout",
     "output_type": "stream",
     "text": [
      "base error row: 156\n"
     ]
    }
   ],
   "source": [
    "# As base error, variant with heteroplasmy < 1% are assumed to be error\n",
    "be_df = df[df[\"heteroplasmy\"] < 1] \n",
    "total_depths = be_df[\"total_depth\"]\n",
    "alt_depths = be_df[\"delread\"]\n",
    "\n",
    "# print number of variant\n",
    "row_count = len(be_df)\n",
    "print(f\"base error row: {row_count}\")"
   ]
  },
  {
   "cell_type": "code",
   "execution_count": 16,
   "id": "73cbd713-ab49-4e4c-b349-a68161c3070a",
   "metadata": {},
   "outputs": [
    {
     "name": "stdout",
     "output_type": "stream",
     "text": [
      "Estimated beta distribution parameter: alpha=0.636, beta=350.771\n"
     ]
    }
   ],
   "source": [
    "# Calculate mean and variance of error\n",
    "error_rates = alt_depths / total_depths\n",
    "mean_error = np.mean(error_rates)\n",
    "var_error = np.var(error_rates)\n",
    "\n",
    "# Estimate α, β (Beta-distribution) by a method of moments\n",
    "alpha = mean_error * ((mean_error * (1 - mean_error) / var_error) - 1)\n",
    "beta = (1 - mean_error) * ((mean_error * (1 - mean_error) / var_error) - 1)\n",
    "print(f\"Estimated beta distribution parameter: alpha={alpha:.3f}, beta={beta:.3f}\")"
   ]
  },
  {
   "cell_type": "code",
   "execution_count": 17,
   "id": "3d9f7e76-7bba-4e76-b987-c1ceb49b05b8",
   "metadata": {},
   "outputs": [
    {
     "name": "stdout",
     "output_type": "stream",
     "text": [
      "filtered row (removed WT read = 0 or del read = 1): 44\n"
     ]
    }
   ],
   "source": [
    "# Remove deletions with few support reads (WT read = 0 or del read = 1)\n",
    "df = df.loc[(df['wtread'] != 0) & (df['delread'] != 1)]\n",
    "\n",
    "# print number of variant\n",
    "row_count = len(df)\n",
    "print(f\"filtered row (removed WT read = 0 or del read = 1): {row_count}\")"
   ]
  },
  {
   "cell_type": "code",
   "execution_count": 18,
   "id": "d4fa989b-b485-40ec-b0c4-7fbc07e795b3",
   "metadata": {},
   "outputs": [],
   "source": [
    "# Calculate p value by Beta-Binomial model\n",
    "def beta_binomial_pval(total_depth, alt_depth, alpha, beta):\n",
    "    \"\"\"\n",
    "    Calculate P value using Beta-Binomial model\n",
    "    - Find the probability that del read > alt_depth\n",
    "    \"\"\"\n",
    "    return 1 - stats.betabinom.cdf(alt_depth - 1, total_depth, alpha, beta)"
   ]
  },
  {
   "cell_type": "code",
   "execution_count": 19,
   "id": "6d041692-b59f-4f6c-a0a2-f3322f6fe57f",
   "metadata": {},
   "outputs": [],
   "source": [
    "# Calculate and append p value col\n",
    "df[\"p_value\"] = df.apply(lambda row: beta_binomial_pval(row[\"total_depth\"], row[\"delread\"], alpha, beta), axis=1)\n",
    "df.head()"
   ]
  },
  {
   "cell_type": "code",
   "execution_count": 20,
   "id": "0a7b6333-535d-4349-8414-8a4e978d2c74",
   "metadata": {},
   "outputs": [
    {
     "data": {
      "text/html": [
       "<div>\n",
       "<style scoped>\n",
       "    .dataframe tbody tr th:only-of-type {\n",
       "        vertical-align: middle;\n",
       "    }\n",
       "\n",
       "    .dataframe tbody tr th {\n",
       "        vertical-align: top;\n",
       "    }\n",
       "\n",
       "    .dataframe thead th {\n",
       "        text-align: right;\n",
       "    }\n",
       "</style>\n",
       "<table border=\"1\" class=\"dataframe\">\n",
       "  <thead>\n",
       "    <tr style=\"text-align: right;\">\n",
       "      <th></th>\n",
       "      <th>name</th>\n",
       "      <th>break5</th>\n",
       "      <th>break3</th>\n",
       "      <th>delread</th>\n",
       "      <th>wtread</th>\n",
       "      <th>heteroplasmy</th>\n",
       "      <th>total_depth</th>\n",
       "      <th>p_value</th>\n",
       "      <th>q_value</th>\n",
       "    </tr>\n",
       "  </thead>\n",
       "  <tbody>\n",
       "    <tr>\n",
       "      <th>5</th>\n",
       "      <td>SRR14433337_10000000_s1</td>\n",
       "      <td>6072</td>\n",
       "      <td>13094</td>\n",
       "      <td>59</td>\n",
       "      <td>22</td>\n",
       "      <td>72.839506</td>\n",
       "      <td>81</td>\n",
       "      <td>5.555556e-13</td>\n",
       "      <td>1.111111e-12</td>\n",
       "    </tr>\n",
       "    <tr>\n",
       "      <th>6</th>\n",
       "      <td>SRR14433337_10000000_s2</td>\n",
       "      <td>6072</td>\n",
       "      <td>13094</td>\n",
       "      <td>60</td>\n",
       "      <td>19</td>\n",
       "      <td>75.949367</td>\n",
       "      <td>79</td>\n",
       "      <td>3.067546e-13</td>\n",
       "      <td>7.103791e-13</td>\n",
       "    </tr>\n",
       "    <tr>\n",
       "      <th>14</th>\n",
       "      <td>SRR14433337_10000000_s3</td>\n",
       "      <td>6072</td>\n",
       "      <td>13094</td>\n",
       "      <td>56</td>\n",
       "      <td>20</td>\n",
       "      <td>73.684211</td>\n",
       "      <td>76</td>\n",
       "      <td>5.750955e-14</td>\n",
       "      <td>4.217367e-13</td>\n",
       "    </tr>\n",
       "    <tr>\n",
       "      <th>17</th>\n",
       "      <td>SRR14433337_10000000_s4</td>\n",
       "      <td>6072</td>\n",
       "      <td>13094</td>\n",
       "      <td>58</td>\n",
       "      <td>20</td>\n",
       "      <td>74.358974</td>\n",
       "      <td>78</td>\n",
       "      <td>1.900702e-13</td>\n",
       "      <td>6.433145e-13</td>\n",
       "    </tr>\n",
       "    <tr>\n",
       "      <th>21</th>\n",
       "      <td>SRR14433337_10000000_s5</td>\n",
       "      <td>6072</td>\n",
       "      <td>13094</td>\n",
       "      <td>60</td>\n",
       "      <td>22</td>\n",
       "      <td>73.170732</td>\n",
       "      <td>82</td>\n",
       "      <td>0.000000e+00</td>\n",
       "      <td>0.000000e+00</td>\n",
       "    </tr>\n",
       "  </tbody>\n",
       "</table>\n",
       "</div>"
      ],
      "text/plain": [
       "                       name  break5  break3  delread  wtread  heteroplasmy  \\\n",
       "5   SRR14433337_10000000_s1    6072   13094       59      22     72.839506   \n",
       "6   SRR14433337_10000000_s2    6072   13094       60      19     75.949367   \n",
       "14  SRR14433337_10000000_s3    6072   13094       56      20     73.684211   \n",
       "17  SRR14433337_10000000_s4    6072   13094       58      20     74.358974   \n",
       "21  SRR14433337_10000000_s5    6072   13094       60      22     73.170732   \n",
       "\n",
       "    total_depth       p_value       q_value  \n",
       "5            81  5.555556e-13  1.111111e-12  \n",
       "6            79  3.067546e-13  7.103791e-13  \n",
       "14           76  5.750955e-14  4.217367e-13  \n",
       "17           78  1.900702e-13  6.433145e-13  \n",
       "21           82  0.000000e+00  0.000000e+00  "
      ]
     },
     "execution_count": 20,
     "metadata": {},
     "output_type": "execute_result"
    }
   ],
   "source": [
    "# Calculate q value with Benjamini-Hochberg\n",
    "df[\"q_value\"] = multipletests(df[\"p_value\"], method=\"fdr_bh\")[1]\n",
    "df.head()"
   ]
  },
  {
   "cell_type": "code",
   "execution_count": 21,
   "id": "4ba582af-4580-4264-9487-fcdced19b9b0",
   "metadata": {},
   "outputs": [
    {
     "name": "stdout",
     "output_type": "stream",
     "text": [
      "PASS count: 41, False positive count: 3\n"
     ]
    }
   ],
   "source": [
    "# Filtering\n",
    "threshold = 0.01  # FDR threshold (adjustable)\n",
    "\n",
    "df[\"PASS\"] = df[\"q_value\"] < threshold\n",
    "\n",
    "# print number of variant\n",
    "true_count = (df[\"PASS\"] == True).sum()\n",
    "false_count = (df[\"PASS\"] == False).sum()\n",
    "print(f\"PASS count: {true_count}, False positive count: {false_count}\")"
   ]
  },
  {
   "cell_type": "code",
   "execution_count": 22,
   "id": "6ec06269-6bf0-4c6e-965b-aa5915886489",
   "metadata": {
    "scrolled": true
   },
   "outputs": [
    {
     "name": "stdout",
     "output_type": "stream",
     "text": [
      "                        name  break5  break3  delread  wtread  heteroplasmy  total_depth       p_value       q_value   PASS\n",
      "5    SRR14433337_10000000_s1    6072   13094       59      22     72.839506           81  5.555556e-13  1.111111e-12   True\n",
      "6    SRR14433337_10000000_s2    6072   13094       60      19     75.949367           79  3.067546e-13  7.103791e-13   True\n",
      "14   SRR14433337_10000000_s3    6072   13094       56      20     73.684211           76  5.750955e-14  4.217367e-13   True\n",
      "17   SRR14433337_10000000_s4    6072   13094       58      20     74.358974           78  1.900702e-13  6.433145e-13   True\n",
      "21   SRR14433337_10000000_s5    6072   13094       60      22     73.170732           82  0.000000e+00  0.000000e+00   True\n",
      "26    SRR14433337_1000000_s1    6072   13094        3       1     75.000000            4  2.485533e-07  3.124670e-07   True\n",
      "28    SRR14433337_1000000_s2    6072   13094        5       4     55.555556            9  1.001568e-09  1.468966e-09   True\n",
      "29    SRR14433337_1000000_s3    6072   13094        4       2     66.666667            6  9.436250e-09  1.294430e-08   True\n",
      "31    SRR14433337_1000000_s4    6072   13094        3       2     60.000000            5  6.166155e-07  7.536412e-07   True\n",
      "33    SRR14433337_1000000_s5    6072   13094        5       2     71.428571            7  1.712647e-10  2.691302e-10   True\n",
      "41   SRR14433337_20000000_s1    6072   13094      117      40     74.522293          157  0.000000e+00  0.000000e+00   True\n",
      "48   SRR14433337_20000000_s2    6072   13094      121      42     74.233129          163  1.214584e-13  6.433145e-13   True\n",
      "53   SRR14433337_20000000_s3    6072   13094      101      44     69.655172          145  8.493206e-14  5.338587e-13   True\n",
      "65   SRR14433337_20000000_s4    6072   13094      119      46     72.121212          165  6.906697e-13  1.321281e-12   True\n",
      "73   SRR14433337_20000000_s5    6072   13094      126      44     74.117647          170  5.118128e-13  1.072370e-12   True\n",
      "76    SRR14433337_2000000_s1    6072   13094        5       4     55.555556            9  1.001568e-09  1.468966e-09   True\n",
      "78    SRR14433337_2000000_s2    6072   13094       12       6     66.666667           18  0.000000e+00  0.000000e+00   True\n",
      "80    SRR14433337_2000000_s3    6072   13094       12       2     85.714286           14  2.863265e-13  6.999093e-13   True\n",
      "82    SRR14433337_2000000_s4    6072   13094       15       6     71.428571           21  2.707834e-13  6.999093e-13   True\n",
      "84    SRR14433337_2000000_s5    6072   13094        6       4     60.000000           10  2.616951e-11  4.605834e-11   True\n",
      "103  SRR14433338_10000000_s5    8469   13446        2       3     40.000000            5  8.272141e-05  9.332672e-05   True\n",
      "120  SRR14433338_20000000_s2   13668   14611        2     156      1.265823          158  5.446423e-02  5.705776e-02  False\n",
      "132  SRR14433338_20000000_s4    6540   12008        2     528      0.377358          530  2.298976e-01  2.298976e-01  False\n",
      "140  SRR14433338_20000000_s5    8469   13446        2      11     15.384615           13  6.204380e-04  6.658359e-04   True\n",
      "147   SRR14433338_2000000_s5    8469   13446        2       1     66.666667            3  2.506402e-05  2.902150e-05   True\n",
      "149  SRR14433339_10000000_s1   10381   15406       26      46     36.111111           72  3.573808e-13  7.862377e-13   True\n",
      "158  SRR14433339_10000000_s2   10381   15406       38      40     48.717949           78  1.900702e-13  6.433145e-13   True\n",
      "173  SRR14433339_10000000_s3   10381   15406       19      38     33.333333           57  2.788880e-13  6.999093e-13   True\n",
      "179  SRR14433339_10000000_s4   10381   15406       25      36     40.983607           61  2.524647e-13  6.999093e-13   True\n",
      "188  SRR14433339_10000000_s5   10381   15406       21      35     37.500000           56  0.000000e+00  0.000000e+00   True\n",
      "189   SRR14433339_1000000_s1   10381   15406        4       4     50.000000            8  4.312737e-08  5.581189e-08   True\n",
      "191   SRR14433339_1000000_s3   10381   15406        2       4     33.333333            6  1.234702e-04  1.358172e-04   True\n",
      "194   SRR14433339_1000000_s4   10381   15406        5       2     71.428571            7  1.712647e-10  2.691302e-10   True\n",
      "195   SRR14433339_1000000_s5   10381   15406        3       3     50.000000            6  1.223795e-06  1.455324e-06   True\n",
      "204  SRR14433339_20000000_s1   10381   15406       54      94     36.486486          148  0.000000e+00  0.000000e+00   True\n",
      "214  SRR14433339_20000000_s2   10381   15406       63      81     43.750000          144  2.685629e-13  6.999093e-13   True\n",
      "229  SRR14433339_20000000_s3   10381   15406       45      80     36.000000          125  1.507683e-13  6.433145e-13   True\n",
      "249  SRR14433339_20000000_s4   10381   15406       48      72     40.000000          120  1.614264e-13  6.433145e-13   True\n",
      "257  SRR14433339_20000000_s5    4993    5468        2     456      0.436681          458  2.002293e-01  2.048858e-01  False\n",
      "259  SRR14433339_20000000_s5   10381   15406       47      78     37.600000          125  1.507683e-13  6.433145e-13   True\n",
      "266   SRR14433339_2000000_s1   10381   15406        5       8     38.461538           13  9.708226e-09  1.294430e-08   True\n",
      "271   SRR14433339_2000000_s3   10381   15406        5       8     38.461538           13  9.708226e-09  1.294430e-08   True\n",
      "272   SRR14433339_2000000_s4   10381   15406        7       4     63.636364           11  1.218248e-12  2.233454e-12   True\n",
      "273   SRR14433339_2000000_s5   10381   15406        6       5     54.545455           11  5.698342e-11  9.643348e-11   True\n"
     ]
    }
   ],
   "source": [
    "# Print results\n",
    "print(df.to_string())"
   ]
  },
  {
   "cell_type": "code",
   "execution_count": 25,
   "id": "749e8d58-35de-44f7-89a0-5ddfce17d0ea",
   "metadata": {},
   "outputs": [],
   "source": [
    "# ground truth labal\n",
    "valid_pairs = {(6072, 13094), (8469, 13446), (10381, 15406)}\n",
    "df[\"answer\"] = df.apply(lambda row: (row[\"break5\"], row[\"break3\"]) in valid_pairs, axis=1)\n",
    "\n",
    "# Save data\n",
    "df.to_csv('250218_psrna_betabinomial_rmfirst_fdr0.01.tsv', sep='\\t', index=False)"
   ]
  },
  {
   "cell_type": "code",
   "execution_count": 26,
   "id": "268f9585-8e5a-4983-b859-2f4a320f18fc",
   "metadata": {},
   "outputs": [
    {
     "data": {
      "image/png": "[encoded data removed]",
      "text/plain": [
       "<Figure size 640x480 with 1 Axes>"
      ]
     },
     "metadata": {},
     "output_type": "display_data"
    }
   ],
   "source": [
    "# Histogram visualization\n",
    "# plot\n",
    "plt.hist(df[\"p_value\"], bins=100, alpha=0.7, color=\"blue\", label=\"P-value\")\n",
    "plt.axvline(threshold, color='red', linestyle=\"--\", label=\"threashold\")\n",
    "plt.xlabel(\"P-value\")\n",
    "plt.ylabel(\"Number\")\n",
    "plt.legend()\n",
    "plt.title(\"Beta-Binomial filtering P-value distribution\")\n",
    "plt.show()"
   ]
  },
  {
   "cell_type": "code",
   "execution_count": null,
   "id": "df92ad85-37c5-4672-80e4-f8a3e235438b",
   "metadata": {},
   "outputs": [],
   "source": []
  }
 ],
 "metadata": {
  "kernelspec": {
   "display_name": "Python 3 (ipykernel)",
   "language": "python",
   "name": "python3"
  },
  "language_info": {
   "codemirror_mode": {
    "name": "ipython",
    "version": 3
   },
   "file_extension": ".py",
   "mimetype": "text/x-python",
   "name": "python",
   "nbconvert_exporter": "python",
   "pygments_lexer": "ipython3",
   "version": "3.12.4"
  }
 },
 "nbformat": 4,
 "nbformat_minor": 5
}
