{
 "cells": [
  {
   "cell_type": "code",
   "execution_count": 1,
   "id": "174706dc-7f28-4e78-bd9f-d086b96dba37",
   "metadata": {},
   "outputs": [],
   "source": [
    "import numpy as np\n",
    "import pandas as pd\n",
    "import os\n",
    "import glob\n",
    "import scipy.stats as stats\n",
    "import matplotlib.pyplot as plt\n",
    "from statsmodels.stats.multitest import multipletests"
   ]
  },
  {
   "cell_type": "code",
   "execution_count": null,
   "id": "4b4a0346-a92a-4af3-bf7b-03bb5efbd98b",
   "metadata": {},
   "outputs": [],
   "source": [
    "# 20250313: PD, scRNA-seq, cell-type splitted and pooled, MitoSAlt(last only)\n",
    "# 1. Fitting model using assumed base error derived call (heteroplasmy < 1%)\n",
    "# 2. Remove deletions with few support reads (WT read = 0 or del read = 1)\n",
    "# 3. Filter based on Beta-binomial model, with q-score"
   ]
  },
  {
   "cell_type": "code",
   "execution_count": 2,
   "id": "d4fa989b-b485-40ec-b0c4-7fbc07e795b3",
   "metadata": {},
   "outputs": [],
   "source": [
    "# ==== Calculate p value by Beta-Binomial model ====\n",
    "def beta_binomial_pval(total_depth, alt_depth, alpha, beta):\n",
    "    \"\"\"\n",
    "    Calculate P value using Beta-Binomial model\n",
    "    - Find the probability that del read > alt_depth\n",
    "    \"\"\"\n",
    "    return 1 - stats.betabinom.cdf(alt_depth - 1, total_depth, alpha, beta)"
   ]
  },
  {
   "cell_type": "code",
   "execution_count": 3,
   "id": "7be413d5-37ab-4bf7-9285-1650d6fc7e9d",
   "metadata": {},
   "outputs": [
    {
     "name": "stdout",
     "output_type": "stream",
     "text": [
      "                 name  break5  break3  delread  wtread  heteroplasmy  \\\n",
      "0  p103_m68.Astrocyte    5202    5299        2      96      2.040816   \n",
      "1  p103_m68.Astrocyte    3205   12011        1      98      1.010101   \n",
      "2  p103_m68.Astrocyte     686    3984        1     170      0.584795   \n",
      "3  p103_m68.Astrocyte    2076    3850        2     252      0.787402   \n",
      "4  p103_m68.Astrocyte    3843    3960        1      20      4.761905   \n",
      "\n",
      "     sample    cluster  pt  total_depth  \n",
      "0  p103_m68  Astrocyte  pd           98  \n",
      "1  p103_m68  Astrocyte  pd           99  \n",
      "2  p103_m68  Astrocyte  pd          171  \n",
      "3  p103_m68  Astrocyte  pd          254  \n",
      "4  p103_m68  Astrocyte  pd           21  \n"
     ]
    }
   ],
   "source": [
    "### Down sample to 50 cells\n",
    "# /home/hrknkg/mitosalt/250319_pdrna_neuronsub/2_result\n",
    "\n",
    "tsv_files = glob.glob(os.path.join(os.getcwd(), \"./2_result/*.tsv\"))\n",
    "dataframes = []\n",
    "\n",
    "for file in tsv_files:\n",
    "    data = pd.read_csv(file, sep='\\t')\n",
    "    dataframes.append(data)\n",
    "df = pd.concat(dataframes, ignore_index=True)\n",
    "\n",
    "# split name & labeling & total depth calculation\n",
    "df[['sample', 'cluster']] = df['name'].str.split('.', expand=True)[[0, 1]]\n",
    "df['pt'] = df['sample'].apply(lambda x: 'wt' if 'c' in x else ('pd' if 'p' in x else 'other'))\n",
    "df[\"total_depth\"] = df[\"delread\"] + df[\"wtread\"]\n",
    "\n",
    "print(df.head())"
   ]
  },
  {
   "cell_type": "code",
   "execution_count": 4,
   "id": "7835ca80-7d63-4370-8055-70f4116b89e9",
   "metadata": {},
   "outputs": [
    {
     "name": "stdout",
     "output_type": "stream",
     "text": [
      "1_all_row: 10757\n"
     ]
    }
   ],
   "source": [
    "df0 = df.copy()\n",
    "row_count = len(df)\n",
    "print(f\"1_all_row: {row_count}\")"
   ]
  },
  {
   "cell_type": "code",
   "execution_count": 5,
   "id": "3d7d9b21-a6a4-4f9d-b120-a8176d7f23c6",
   "metadata": {},
   "outputs": [
    {
     "name": "stdout",
     "output_type": "stream",
     "text": [
      "3_base_error_row: 5563\n"
     ]
    }
   ],
   "source": [
    "# ====== Parameter estimation with a method of moments ======\n",
    "\n",
    "# Assuming heteroplasmy < 1 is from base error\n",
    "be_df = df[df[\"heteroplasmy\"] < 1] \n",
    "total_depths = be_df[\"total_depth\"]\n",
    "alt_depths = be_df[\"delread\"]\n",
    "\n",
    "row_count3 = len(be_df)\n",
    "print(f\"3_base_error_row: {row_count3}\")"
   ]
  },
  {
   "cell_type": "code",
   "execution_count": 6,
   "id": "94ecf3de-4d83-44a5-9cd2-6ed7dd31027a",
   "metadata": {},
   "outputs": [
    {
     "name": "stdout",
     "output_type": "stream",
     "text": [
      "Estimated beta distribution parameter: alpha=3.889, beta=788.581\n"
     ]
    }
   ],
   "source": [
    "# Calculate mean and variance of error\n",
    "error_rates = alt_depths / total_depths\n",
    "mean_error = np.mean(error_rates)\n",
    "var_error = np.var(error_rates)\n",
    "\n",
    "# Estimate α, β (Beta-distribution) by a method of moments\n",
    "alpha = mean_error * ((mean_error * (1 - mean_error) / var_error) - 1)\n",
    "beta = (1 - mean_error) * ((mean_error * (1 - mean_error) / var_error) - 1)\n",
    "print(f\"Estimated beta distribution parameter: alpha={alpha:.3f}, beta={beta:.3f}\")"
   ]
  },
  {
   "cell_type": "code",
   "execution_count": 7,
   "id": "51d70460-19a5-4c1a-a9e2-26dea310079b",
   "metadata": {},
   "outputs": [
    {
     "name": "stdout",
     "output_type": "stream",
     "text": [
      "2_filtered_row(WT read = 0 or del read = 1): 4535\n"
     ]
    }
   ],
   "source": [
    "# ====== Remove deletions with few support reads (WT read = 0 or del read = 1) ======\n",
    "df = df.loc[(df['wtread'] != 0) & (df['delread'] != 1)]\n",
    "row_count2 = len(df)\n",
    "print(f\"2_filtered_row(WT read = 0 or del read = 1): {row_count2}\")"
   ]
  },
  {
   "cell_type": "code",
   "execution_count": 8,
   "id": "28cc28c5-e828-4cc8-b8d1-bfb5200dafec",
   "metadata": {},
   "outputs": [
    {
     "data": {
      "text/html": [
       "<div>\n",
       "<style scoped>\n",
       "    .dataframe tbody tr th:only-of-type {\n",
       "        vertical-align: middle;\n",
       "    }\n",
       "\n",
       "    .dataframe tbody tr th {\n",
       "        vertical-align: top;\n",
       "    }\n",
       "\n",
       "    .dataframe thead th {\n",
       "        text-align: right;\n",
       "    }\n",
       "</style>\n",
       "<table border=\"1\" class=\"dataframe\">\n",
       "  <thead>\n",
       "    <tr style=\"text-align: right;\">\n",
       "      <th></th>\n",
       "      <th>name</th>\n",
       "      <th>break5</th>\n",
       "      <th>break3</th>\n",
       "      <th>delread</th>\n",
       "      <th>wtread</th>\n",
       "      <th>heteroplasmy</th>\n",
       "      <th>sample</th>\n",
       "      <th>cluster</th>\n",
       "      <th>pt</th>\n",
       "      <th>total_depth</th>\n",
       "      <th>p_value</th>\n",
       "    </tr>\n",
       "  </thead>\n",
       "  <tbody>\n",
       "    <tr>\n",
       "      <th>0</th>\n",
       "      <td>p103_m68.Astrocyte</td>\n",
       "      <td>5202</td>\n",
       "      <td>5299</td>\n",
       "      <td>2</td>\n",
       "      <td>96</td>\n",
       "      <td>2.040816</td>\n",
       "      <td>p103_m68</td>\n",
       "      <td>Astrocyte</td>\n",
       "      <td>pd</td>\n",
       "      <td>98</td>\n",
       "      <td>0.092278</td>\n",
       "    </tr>\n",
       "    <tr>\n",
       "      <th>3</th>\n",
       "      <td>p103_m68.Astrocyte</td>\n",
       "      <td>2076</td>\n",
       "      <td>3850</td>\n",
       "      <td>2</td>\n",
       "      <td>252</td>\n",
       "      <td>0.787402</td>\n",
       "      <td>p103_m68</td>\n",
       "      <td>Astrocyte</td>\n",
       "      <td>pd</td>\n",
       "      <td>254</td>\n",
       "      <td>0.341044</td>\n",
       "    </tr>\n",
       "    <tr>\n",
       "      <th>7</th>\n",
       "      <td>p103_m68.Astrocyte</td>\n",
       "      <td>775</td>\n",
       "      <td>12007</td>\n",
       "      <td>2</td>\n",
       "      <td>253</td>\n",
       "      <td>0.784314</td>\n",
       "      <td>p103_m68</td>\n",
       "      <td>Astrocyte</td>\n",
       "      <td>pd</td>\n",
       "      <td>255</td>\n",
       "      <td>0.342543</td>\n",
       "    </tr>\n",
       "    <tr>\n",
       "      <th>9</th>\n",
       "      <td>p103_m68.Astrocyte</td>\n",
       "      <td>1373</td>\n",
       "      <td>6582</td>\n",
       "      <td>2</td>\n",
       "      <td>63</td>\n",
       "      <td>3.076923</td>\n",
       "      <td>p103_m68</td>\n",
       "      <td>Astrocyte</td>\n",
       "      <td>pd</td>\n",
       "      <td>65</td>\n",
       "      <td>0.046692</td>\n",
       "    </tr>\n",
       "    <tr>\n",
       "      <th>12</th>\n",
       "      <td>p103_m68.Astrocyte</td>\n",
       "      <td>1380</td>\n",
       "      <td>2131</td>\n",
       "      <td>3</td>\n",
       "      <td>222</td>\n",
       "      <td>1.333333</td>\n",
       "      <td>p103_m68</td>\n",
       "      <td>Astrocyte</td>\n",
       "      <td>pd</td>\n",
       "      <td>225</td>\n",
       "      <td>0.120044</td>\n",
       "    </tr>\n",
       "  </tbody>\n",
       "</table>\n",
       "</div>"
      ],
      "text/plain": [
       "                  name  break5  break3  delread  wtread  heteroplasmy  \\\n",
       "0   p103_m68.Astrocyte    5202    5299        2      96      2.040816   \n",
       "3   p103_m68.Astrocyte    2076    3850        2     252      0.787402   \n",
       "7   p103_m68.Astrocyte     775   12007        2     253      0.784314   \n",
       "9   p103_m68.Astrocyte    1373    6582        2      63      3.076923   \n",
       "12  p103_m68.Astrocyte    1380    2131        3     222      1.333333   \n",
       "\n",
       "      sample    cluster  pt  total_depth   p_value  \n",
       "0   p103_m68  Astrocyte  pd           98  0.092278  \n",
       "3   p103_m68  Astrocyte  pd          254  0.341044  \n",
       "7   p103_m68  Astrocyte  pd          255  0.342543  \n",
       "9   p103_m68  Astrocyte  pd           65  0.046692  \n",
       "12  p103_m68  Astrocyte  pd          225  0.120044  "
      ]
     },
     "execution_count": 8,
     "metadata": {},
     "output_type": "execute_result"
    }
   ],
   "source": [
    "# Calculate and append p value col\n",
    "df[\"p_value\"] = df.apply(lambda row: beta_binomial_pval(row[\"total_depth\"], row[\"delread\"], alpha, beta), axis=1)\n",
    "df.head()"
   ]
  },
  {
   "cell_type": "code",
   "execution_count": 9,
   "id": "566cf71c-64cd-41c0-94c5-151ef065d7da",
   "metadata": {},
   "outputs": [
    {
     "data": {
      "text/html": [
       "<div>\n",
       "<style scoped>\n",
       "    .dataframe tbody tr th:only-of-type {\n",
       "        vertical-align: middle;\n",
       "    }\n",
       "\n",
       "    .dataframe tbody tr th {\n",
       "        vertical-align: top;\n",
       "    }\n",
       "\n",
       "    .dataframe thead th {\n",
       "        text-align: right;\n",
       "    }\n",
       "</style>\n",
       "<table border=\"1\" class=\"dataframe\">\n",
       "  <thead>\n",
       "    <tr style=\"text-align: right;\">\n",
       "      <th></th>\n",
       "      <th>name</th>\n",
       "      <th>break5</th>\n",
       "      <th>break3</th>\n",
       "      <th>delread</th>\n",
       "      <th>wtread</th>\n",
       "      <th>heteroplasmy</th>\n",
       "      <th>sample</th>\n",
       "      <th>cluster</th>\n",
       "      <th>pt</th>\n",
       "      <th>total_depth</th>\n",
       "      <th>p_value</th>\n",
       "      <th>q_value</th>\n",
       "    </tr>\n",
       "  </thead>\n",
       "  <tbody>\n",
       "    <tr>\n",
       "      <th>0</th>\n",
       "      <td>p103_m68.Astrocyte</td>\n",
       "      <td>5202</td>\n",
       "      <td>5299</td>\n",
       "      <td>2</td>\n",
       "      <td>96</td>\n",
       "      <td>2.040816</td>\n",
       "      <td>p103_m68</td>\n",
       "      <td>Astrocyte</td>\n",
       "      <td>pd</td>\n",
       "      <td>98</td>\n",
       "      <td>0.092278</td>\n",
       "      <td>0.200231</td>\n",
       "    </tr>\n",
       "    <tr>\n",
       "      <th>3</th>\n",
       "      <td>p103_m68.Astrocyte</td>\n",
       "      <td>2076</td>\n",
       "      <td>3850</td>\n",
       "      <td>2</td>\n",
       "      <td>252</td>\n",
       "      <td>0.787402</td>\n",
       "      <td>p103_m68</td>\n",
       "      <td>Astrocyte</td>\n",
       "      <td>pd</td>\n",
       "      <td>254</td>\n",
       "      <td>0.341044</td>\n",
       "      <td>0.459761</td>\n",
       "    </tr>\n",
       "    <tr>\n",
       "      <th>7</th>\n",
       "      <td>p103_m68.Astrocyte</td>\n",
       "      <td>775</td>\n",
       "      <td>12007</td>\n",
       "      <td>2</td>\n",
       "      <td>253</td>\n",
       "      <td>0.784314</td>\n",
       "      <td>p103_m68</td>\n",
       "      <td>Astrocyte</td>\n",
       "      <td>pd</td>\n",
       "      <td>255</td>\n",
       "      <td>0.342543</td>\n",
       "      <td>0.460822</td>\n",
       "    </tr>\n",
       "    <tr>\n",
       "      <th>9</th>\n",
       "      <td>p103_m68.Astrocyte</td>\n",
       "      <td>1373</td>\n",
       "      <td>6582</td>\n",
       "      <td>2</td>\n",
       "      <td>63</td>\n",
       "      <td>3.076923</td>\n",
       "      <td>p103_m68</td>\n",
       "      <td>Astrocyte</td>\n",
       "      <td>pd</td>\n",
       "      <td>65</td>\n",
       "      <td>0.046692</td>\n",
       "      <td>0.129588</td>\n",
       "    </tr>\n",
       "    <tr>\n",
       "      <th>12</th>\n",
       "      <td>p103_m68.Astrocyte</td>\n",
       "      <td>1380</td>\n",
       "      <td>2131</td>\n",
       "      <td>3</td>\n",
       "      <td>222</td>\n",
       "      <td>1.333333</td>\n",
       "      <td>p103_m68</td>\n",
       "      <td>Astrocyte</td>\n",
       "      <td>pd</td>\n",
       "      <td>225</td>\n",
       "      <td>0.120044</td>\n",
       "      <td>0.238563</td>\n",
       "    </tr>\n",
       "  </tbody>\n",
       "</table>\n",
       "</div>"
      ],
      "text/plain": [
       "                  name  break5  break3  delread  wtread  heteroplasmy  \\\n",
       "0   p103_m68.Astrocyte    5202    5299        2      96      2.040816   \n",
       "3   p103_m68.Astrocyte    2076    3850        2     252      0.787402   \n",
       "7   p103_m68.Astrocyte     775   12007        2     253      0.784314   \n",
       "9   p103_m68.Astrocyte    1373    6582        2      63      3.076923   \n",
       "12  p103_m68.Astrocyte    1380    2131        3     222      1.333333   \n",
       "\n",
       "      sample    cluster  pt  total_depth   p_value   q_value  \n",
       "0   p103_m68  Astrocyte  pd           98  0.092278  0.200231  \n",
       "3   p103_m68  Astrocyte  pd          254  0.341044  0.459761  \n",
       "7   p103_m68  Astrocyte  pd          255  0.342543  0.460822  \n",
       "9   p103_m68  Astrocyte  pd           65  0.046692  0.129588  \n",
       "12  p103_m68  Astrocyte  pd          225  0.120044  0.238563  "
      ]
     },
     "execution_count": 9,
     "metadata": {},
     "output_type": "execute_result"
    }
   ],
   "source": [
    "# Calculate q value with Benjamini-Hochberg\n",
    "df[\"q_value\"] = multipletests(df[\"p_value\"], method=\"fdr_bh\")[1]\n",
    "df.head()"
   ]
  },
  {
   "cell_type": "code",
   "execution_count": 31,
   "id": "e4790cff-0537-4ba8-b73f-41269ce258a7",
   "metadata": {},
   "outputs": [
    {
     "data": {
      "image/png": "[encoded data removed]",
      "text/plain": [
       "<Figure size 640x480 with 1 Axes>"
      ]
     },
     "metadata": {},
     "output_type": "display_data"
    }
   ],
   "source": [
    "# q value distribution\n",
    "plt.hist(df[\"q_value\"], bins=100, alpha=0.7, color=\"blue\", label=\"q-value\")\n",
    "plt.xlabel(\"q-value\")\n",
    "plt.ylabel(\"Frequency\")\n",
    "plt.legend()\n",
    "plt.title(\"q-value distribution (Beta-Binomial filtering)\")\n",
    "plt.show()"
   ]
  },
  {
   "cell_type": "code",
   "execution_count": 10,
   "id": "02b003d8-1324-4deb-81a6-ea670a3b2566",
   "metadata": {},
   "outputs": [],
   "source": [
    "# Save data\n",
    "df.to_csv('250319_pdrna_ds50_betabinomial.tsv', sep='\\t', index=False)"
   ]
  },
  {
   "cell_type": "code",
   "execution_count": null,
   "id": "a6cd78ca-5e19-46b5-8c74-c03f2747104e",
   "metadata": {},
   "outputs": [],
   "source": []
  }
 ],
 "metadata": {
  "kernelspec": {
   "display_name": "Python 3 (ipykernel)",
   "language": "python",
   "name": "python3"
  },
  "language_info": {
   "codemirror_mode": {
    "name": "ipython",
    "version": 3
   },
   "file_extension": ".py",
   "mimetype": "text/x-python",
   "name": "python",
   "nbconvert_exporter": "python",
   "pygments_lexer": "ipython3",
   "version": "3.12.4"
  }
 },
 "nbformat": 4,
 "nbformat_minor": 5
}
